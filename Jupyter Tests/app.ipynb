{
 "cells": [
  {
   "cell_type": "code",
   "execution_count": 1,
   "id": "2bda4fd4-d867-46ae-9b8b-a5a04a5dd64a",
   "metadata": {},
   "outputs": [
    {
     "name": "stderr",
     "output_type": "stream",
     "text": [
      "INFO:2021-06-21 11:41:51,027:listener.py:Starting listener inbox on C:\\inbox\n"
     ]
    },
    {
     "ename": "FileNotFoundError",
     "evalue": "[WinError 3] El sistema no puede encontrar la ruta especificada: 'C:\\\\inbox'",
     "output_type": "error",
     "traceback": [
      "\u001b[1;31m---------------------------------------------------------------------------\u001b[0m",
      "\u001b[1;31mFileNotFoundError\u001b[0m                         Traceback (most recent call last)",
      "\u001b[1;32m<ipython-input-1-153ca5c40e8f>\u001b[0m in \u001b[0;36m<module>\u001b[1;34m\u001b[0m\n\u001b[0;32m      5\u001b[0m     \u001b[0mcreate_app\u001b[0m\u001b[1;33m(\u001b[0m\u001b[1;33m)\u001b[0m\u001b[1;33m\u001b[0m\u001b[1;33m\u001b[0m\u001b[0m\n\u001b[0;32m      6\u001b[0m     \u001b[0mlistener\u001b[0m \u001b[1;33m=\u001b[0m \u001b[0mListener\u001b[0m\u001b[1;33m(\u001b[0m\u001b[1;33m)\u001b[0m\u001b[1;33m\u001b[0m\u001b[1;33m\u001b[0m\u001b[0m\n\u001b[1;32m----> 7\u001b[1;33m     \u001b[0mlistener\u001b[0m\u001b[1;33m.\u001b[0m\u001b[0mcheck_outbox\u001b[0m\u001b[1;33m(\u001b[0m\u001b[1;33m)\u001b[0m\u001b[1;33m\u001b[0m\u001b[1;33m\u001b[0m\u001b[0m\n\u001b[0m\u001b[0;32m      8\u001b[0m     \u001b[1;31m#listener.check_file_inbox()\u001b[0m\u001b[1;33m\u001b[0m\u001b[1;33m\u001b[0m\u001b[1;33m\u001b[0m\u001b[0m\n",
      "\u001b[1;32mD:\\Proyectos\\Banamex\\ids_trr_165265\\trr_165265\\trr-generic-c-file-listener\\app\\listener.py\u001b[0m in \u001b[0;36mcheck_outbox\u001b[1;34m(self)\u001b[0m\n\u001b[0;32m     21\u001b[0m             \u001b[1;32mwhile\u001b[0m \u001b[1;32mTrue\u001b[0m\u001b[1;33m:\u001b[0m\u001b[1;33m\u001b[0m\u001b[1;33m\u001b[0m\u001b[0m\n\u001b[0;32m     22\u001b[0m                 \u001b[0mutils\u001b[0m\u001b[1;33m.\u001b[0m\u001b[0mtouch\u001b[0m\u001b[1;33m(\u001b[0m\u001b[0mpath_tmp\u001b[0m\u001b[1;33m)\u001b[0m\u001b[1;33m\u001b[0m\u001b[1;33m\u001b[0m\u001b[0m\n\u001b[1;32m---> 23\u001b[1;33m                 \u001b[0mself\u001b[0m\u001b[1;33m.\u001b[0m\u001b[0mstart_listener\u001b[0m\u001b[1;33m(\u001b[0m\u001b[0mpath_inbox\u001b[0m\u001b[1;33m)\u001b[0m\u001b[1;33m\u001b[0m\u001b[1;33m\u001b[0m\u001b[0m\n\u001b[0m\u001b[0;32m     24\u001b[0m                 \u001b[0mtime\u001b[0m\u001b[1;33m.\u001b[0m\u001b[0msleep\u001b[0m\u001b[1;33m(\u001b[0m\u001b[0mprop\u001b[0m\u001b[1;33m.\u001b[0m\u001b[0mTIME_WAITED\u001b[0m\u001b[1;33m)\u001b[0m\u001b[1;33m\u001b[0m\u001b[1;33m\u001b[0m\u001b[0m\n\u001b[0;32m     25\u001b[0m                 \u001b[0mutils\u001b[0m\u001b[1;33m.\u001b[0m\u001b[0mdel_touch\u001b[0m\u001b[1;33m(\u001b[0m\u001b[0mpath_tmp\u001b[0m\u001b[1;33m)\u001b[0m\u001b[1;33m\u001b[0m\u001b[1;33m\u001b[0m\u001b[0m\n",
      "\u001b[1;32mD:\\Proyectos\\Banamex\\ids_trr_165265\\trr_165265\\trr-generic-c-file-listener\\app\\listener.py\u001b[0m in \u001b[0;36mstart_listener\u001b[1;34m(self, path_inbox)\u001b[0m\n\u001b[0;32m     28\u001b[0m \u001b[1;33m\u001b[0m\u001b[0m\n\u001b[0;32m     29\u001b[0m     \u001b[1;32mdef\u001b[0m \u001b[0mstart_listener\u001b[0m\u001b[1;33m(\u001b[0m\u001b[0mself\u001b[0m\u001b[1;33m,\u001b[0m \u001b[0mpath_inbox\u001b[0m\u001b[1;33m)\u001b[0m\u001b[1;33m:\u001b[0m\u001b[1;33m\u001b[0m\u001b[1;33m\u001b[0m\u001b[0m\n\u001b[1;32m---> 30\u001b[1;33m         \u001b[0mdirectories\u001b[0m \u001b[1;33m=\u001b[0m \u001b[0mos\u001b[0m\u001b[1;33m.\u001b[0m\u001b[0mlistdir\u001b[0m\u001b[1;33m(\u001b[0m\u001b[0mpath_inbox\u001b[0m\u001b[1;33m)\u001b[0m\u001b[1;33m\u001b[0m\u001b[1;33m\u001b[0m\u001b[0m\n\u001b[0m\u001b[0;32m     31\u001b[0m         \u001b[1;32mif\u001b[0m \u001b[0mlen\u001b[0m\u001b[1;33m(\u001b[0m\u001b[0mdirectories\u001b[0m\u001b[1;33m)\u001b[0m \u001b[1;33m!=\u001b[0m \u001b[1;36m0\u001b[0m\u001b[1;33m:\u001b[0m\u001b[1;33m\u001b[0m\u001b[1;33m\u001b[0m\u001b[0m\n\u001b[0;32m     32\u001b[0m             \u001b[0mlog\u001b[0m\u001b[1;33m.\u001b[0m\u001b[0minfo\u001b[0m\u001b[1;33m(\u001b[0m\u001b[1;34m'Files were found in the directory %s'\u001b[0m\u001b[1;33m,\u001b[0m \u001b[0mdirectories\u001b[0m\u001b[1;33m)\u001b[0m\u001b[1;33m\u001b[0m\u001b[1;33m\u001b[0m\u001b[0m\n",
      "\u001b[1;31mFileNotFoundError\u001b[0m: [WinError 3] El sistema no puede encontrar la ruta especificada: 'C:\\\\inbox'"
     ]
    }
   ],
   "source": [
    "from app.listener import Listener\n",
    "from app import create_app\n",
    "\n",
    "if __name__ == \"__main__\":\n",
    "    create_app()\n",
    "    listener = Listener()\n",
    "    listener.check_outbox()\n",
    "    #listener.check_file_inbox()"
   ]
  },
  {
   "cell_type": "markdown",
   "id": "0070ecf8-4144-4996-9a57-5457806c150b",
   "metadata": {},
   "source": [
    "# Listener.py"
   ]
  },
  {
   "cell_type": "code",
   "execution_count": 2,
   "id": "0f9d1697-e578-42fb-9a8d-183ef80b9d09",
   "metadata": {},
   "outputs": [],
   "source": [
    "from app.service_impl import ServiceImpl\n",
    "from app.properties import Properties\n",
    "from app.log import log\n",
    "from app import utils\n",
    "\n",
    "import os\n",
    "import time\n",
    "\n",
    "service = ServiceImpl()\n",
    "prop = Properties()"
   ]
  },
  {
   "cell_type": "code",
   "execution_count": 28,
   "id": "4b7a1b12-d79d-42ca-9ce3-30154c9c4484",
   "metadata": {},
   "outputs": [],
   "source": [
    "def check_outbox(self):    \n",
    "    try:\n",
    "        path_dir_names = prop.INBOX_PATH\n",
    "        path_inbox = utils.get_path_from_list(*path_dir_names)\n",
    "        tmp_path_dir_names = prop.TEMP_PATH\n",
    "        path_tmp = utils.get_path_from_list(*tmp_path_dir_names)\n",
    "        log.info('Starting listener inbox on %s', path_inbox)\n",
    "        while True:\n",
    "            utils.touch(path_tmp)\n",
    "            self.start_listener(path_inbox)\n",
    "            time.sleep(prop.TIME_WAITED)\n",
    "            utils.del_touch(path_tmp)\n",
    "    except KeyboardInterrupt:\n",
    "        self.observer.stop()\n",
    "\n",
    "def start_listener(self, path_inbox):\n",
    "    directories = os.listdir(path_inbox)\n",
    "    if len(directories) != 0:\n",
    "        log.info('Files were found in the directory %s', directories)\n",
    "        self.send_files_to_service(directories, path_inbox)\n",
    "\n",
    "def send_files_to_service(self, directories, path_inbox):\n",
    "    for file_name in directories:\n",
    "        service.send_file(file_name)\n",
    "        # time between files\n",
    "        time.sleep(2)\n"
   ]
  },
  {
   "cell_type": "code",
   "execution_count": 11,
   "id": "0c25c376-0ac2-4755-96e9-083cea9852b9",
   "metadata": {},
   "outputs": [
    {
     "ename": "TypeError",
     "evalue": "'NoneType' object is not subscriptable",
     "output_type": "error",
     "traceback": [
      "\u001b[1;31m---------------------------------------------------------------------------\u001b[0m",
      "\u001b[1;31mTypeError\u001b[0m                                 Traceback (most recent call last)",
      "\u001b[1;32m<ipython-input-11-3d76c93fbcb7>\u001b[0m in \u001b[0;36m<module>\u001b[1;34m\u001b[0m\n\u001b[1;32m----> 1\u001b[1;33m \u001b[0mprop\u001b[0m\u001b[1;33m.\u001b[0m\u001b[0mINBOX_PATH\u001b[0m\u001b[1;33m\u001b[0m\u001b[1;33m\u001b[0m\u001b[0m\n\u001b[0m",
      "\u001b[1;32m<ipython-input-6-002ee3440837>\u001b[0m in \u001b[0;36mINBOX_PATH\u001b[1;34m(self)\u001b[0m\n\u001b[0;32m     37\u001b[0m     \u001b[1;33m@\u001b[0m\u001b[0mproperty\u001b[0m\u001b[1;33m\u001b[0m\u001b[1;33m\u001b[0m\u001b[0m\n\u001b[0;32m     38\u001b[0m     \u001b[1;32mdef\u001b[0m \u001b[0mINBOX_PATH\u001b[0m\u001b[1;33m(\u001b[0m\u001b[0mself\u001b[0m\u001b[1;33m)\u001b[0m\u001b[1;33m:\u001b[0m\u001b[1;33m\u001b[0m\u001b[1;33m\u001b[0m\u001b[0m\n\u001b[1;32m---> 39\u001b[1;33m         \u001b[1;32mreturn\u001b[0m \u001b[0mself\u001b[0m\u001b[1;33m.\u001b[0m\u001b[0m__properties\u001b[0m\u001b[1;33m[\u001b[0m\u001b[1;34m'inbox-path'\u001b[0m\u001b[1;33m]\u001b[0m\u001b[1;33m\u001b[0m\u001b[1;33m\u001b[0m\u001b[0m\n\u001b[0m\u001b[0;32m     40\u001b[0m     \u001b[1;33m@\u001b[0m\u001b[0mproperty\u001b[0m\u001b[1;33m\u001b[0m\u001b[1;33m\u001b[0m\u001b[0m\n\u001b[0;32m     41\u001b[0m     \u001b[1;32mdef\u001b[0m \u001b[0mTEMP_PATH\u001b[0m\u001b[1;33m(\u001b[0m\u001b[0mself\u001b[0m\u001b[1;33m)\u001b[0m\u001b[1;33m:\u001b[0m\u001b[1;33m\u001b[0m\u001b[1;33m\u001b[0m\u001b[0m\n",
      "\u001b[1;31mTypeError\u001b[0m: 'NoneType' object is not subscriptable"
     ]
    }
   ],
   "source": [
    "prop.INBOX_PATH"
   ]
  },
  {
   "cell_type": "markdown",
   "id": "636ab1b4-4377-4cd6-817e-3281477b6f9a",
   "metadata": {},
   "source": [
    "# Properties.py"
   ]
  },
  {
   "cell_type": "code",
   "execution_count": 13,
   "id": "54dc54d2-fdbc-4218-8cbd-74d9941739e4",
   "metadata": {},
   "outputs": [],
   "source": [
    "\n",
    "'''\n",
    "    Properties class.\n",
    "'''\n",
    "class Properties(object):\n",
    "\n",
    "    __instance = None\n",
    "    __properties = None\n",
    "\n",
    "    def __init__(self, yml = None):\n",
    "        if Properties.__instance != None:\n",
    "            print(\"algo\")\n",
    "        else:\n",
    "            Properties.__instace = self\n",
    "            if Properties.__properties == None and yml is not None:\n",
    "                Properties.__properties = yml\n",
    "    @property\n",
    "    def INBOX_PATH(self):\n",
    "        return self.__properties['inbox-path']\n",
    "    @property\n",
    "    def TEMP_PATH(self):\n",
    "        return self.__properties['temp-path']"
   ]
  },
  {
   "cell_type": "code",
   "execution_count": 25,
   "id": "5dba0531-6756-44cc-991d-d20f92ccf26d",
   "metadata": {},
   "outputs": [],
   "source": [
    "prop = Properties()"
   ]
  },
  {
   "cell_type": "code",
   "execution_count": 26,
   "id": "30408bbb-af0e-4e9f-956c-e54db8b55f0e",
   "metadata": {},
   "outputs": [
    {
     "data": {
      "text/plain": [
       "<property at 0x1d42a8eeb30>"
      ]
     },
     "execution_count": 26,
     "metadata": {},
     "output_type": "execute_result"
    }
   ],
   "source": [
    "Properties.INBOX_PATH"
   ]
  },
  {
   "cell_type": "code",
   "execution_count": 27,
   "id": "273f8817-2183-4ff0-a7e7-0c50b8af7eed",
   "metadata": {},
   "outputs": [
    {
     "data": {
      "text/plain": [
       "<property at 0x1d42a8ee9f0>"
      ]
     },
     "execution_count": 27,
     "metadata": {},
     "output_type": "execute_result"
    }
   ],
   "source": [
    "Properties.TEMP_PATH"
   ]
  },
  {
   "cell_type": "code",
   "execution_count": null,
   "id": "e6f20e20-2b1a-42a4-a581-18b5b5b71b82",
   "metadata": {},
   "outputs": [],
   "source": []
  }
 ],
 "metadata": {
  "kernelspec": {
   "display_name": "Python 3",
   "language": "python",
   "name": "python3"
  },
  "language_info": {
   "codemirror_mode": {
    "name": "ipython",
    "version": 3
   },
   "file_extension": ".py",
   "mimetype": "text/x-python",
   "name": "python",
   "nbconvert_exporter": "python",
   "pygments_lexer": "ipython3",
   "version": "3.8.6"
  }
 },
 "nbformat": 4,
 "nbformat_minor": 5
}
